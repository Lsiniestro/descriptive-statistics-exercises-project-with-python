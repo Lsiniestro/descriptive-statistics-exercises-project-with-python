{
    "cells": [
        {
            "cell_type": "markdown",
            "id": "ac622319",
            "metadata": {},
            "source": [
                "# Descriptive statistics problems"
            ]
        },
        {
            "cell_type": "markdown",
            "id": "5e0ab0d5",
            "metadata": {},
            "source": [
                "### Exercise 1\n",
                "\n",
                "We will use NumPy to obtain information to describe statistically.\n",
                "\n",
                "- Generate an array of 100 elements following a normal distribution.\n",
                "- Generate an array of 100 elements following a chi-square distribution with 3 degrees of freedom.\n",
                "- Calculate the main metrics and statistical measures that best describe the two vectors."
            ]
        },
        {
            "cell_type": "code",
            "execution_count": 1,
            "id": "34720ab6",
            "metadata": {},
            "outputs": [
                {
                    "name": "stdout",
                    "output_type": "stream",
                    "text": [
                        "Promedio: 0.002616241497708267\n",
                        "Media: 0.1561661396927819\n",
                        "Moda: -0.843308865356537\n",
                        "Rango: 5.976901869190577\n",
                        "Desviacion estandar: 1.027046659112371\n"
                    ]
                }
            ],
            "source": [
                "# TODO\n",
                "import numpy as np\n",
                "import matplotlib.pyplot as plt\n",
                "import statistics as stat\n",
                "\n",
                "normal = np.random.normal(size=100)\n",
                "\n",
                "#print(normal)\n",
                "print('Promedio:',normal.mean())\n",
                "print(\"Media:\",np.median(normal))\n",
                "print(\"Moda:\",stat.mode(normal))\n",
                "print(\"Rango:\", np.max(normal)-np.min(normal))\n",
                "print(\"Desviacion estandar:\",np.std(normal))"
            ]
        },
        {
            "cell_type": "code",
            "execution_count": 2,
            "id": "1cb1fb70",
            "metadata": {},
            "outputs": [
                {
                    "name": "stdout",
                    "output_type": "stream",
                    "text": [
                        "Promedio: 3.319356356675767\n",
                        "Media: 2.469329878021572\n",
                        "Moda: 0.8070526196171918\n",
                        "Rango: 14.424829278203738\n",
                        "Desviacion estandar: 2.885110376401231\n"
                    ]
                }
            ],
            "source": [
                "chi_square= np.random.chisquare(3,size=100)\n",
                "#print(chi_square)\n",
                "print('Promedio:',chi_square.mean())\n",
                "print(\"Media:\",np.median(chi_square))\n",
                "print(\"Moda:\",stat.mode(chi_square))\n",
                "print(\"Rango:\", np.max(chi_square)-np.min(chi_square))\n",
                "print(\"Desviacion estandar:\",np.std(chi_square))\n"
            ]
        },
        {
            "cell_type": "markdown",
            "id": "46c70c3d",
            "metadata": {},
            "source": [
                "### Exercise 2\n",
                "\n",
                "Write a Python program to calculate the standard deviation of the following data:\n",
                "\n",
                "```py\n",
                "data = [4, 2, 5, 8, 6]\n",
                "```"
            ]
        },
        {
            "cell_type": "code",
            "execution_count": 8,
            "id": "d590308e",
            "metadata": {},
            "outputs": [
                {
                    "name": "stdout",
                    "output_type": "stream",
                    "text": [
                        "Calculo con Numpy: 2.0\n",
                        "Calculo de la desviacion de la poblacion es:2.0\n",
                        "Calculo de la desviacion de la muestra es:1.7320508075688772\n"
                    ]
                }
            ],
            "source": [
                "# TODO\n",
                "\n",
                "import math\n",
                "import numpy as np\n",
                "\n",
                "data = [4, 2, 5, 8, 6]\n",
                "print ('Calculo con Numpy:',np.std(data))\n",
                "\n",
                "largo =0\n",
                "#calculo la media\n",
                "\n",
                "for i in range(len(data)):\n",
                "   largo +=data[i]\n",
                "   media = largo /len(data)\n",
                "\n",
                "#calculo desviacion de la poblacion\n",
                "sumatoria = 0\n",
                "for i in range(len(data)):\n",
                "   sumatoria+=(data[i]- media)**2\n",
                "   resultado = math.sqrt((sumatoria)/len(data))\n",
                "\n",
                "#calculo desviacion de la muestra\n",
                "desv_muest = math.sqrt((sumatoria)/len(data) - 1)\n",
                "\n",
                "print(f'Calculo de la desviacion de la poblacion es:{resultado}')\n",
                "print(f'Calculo de la desviacion de la muestra es:{desv_muest}')"
            ]
        }
    ],
    "metadata": {
        "interpreter": {
            "hash": "9248718ffe6ce6938b217e69dbcc175ea21f4c6b28a317e96c05334edae734bb"
        },
        "kernelspec": {
            "display_name": "Python 3.9.12 ('ML-BOOTCAMP')",
            "language": "python",
            "name": "python3"
        },
        "language_info": {
            "codemirror_mode": {
                "name": "ipython",
                "version": 3
            },
            "file_extension": ".py",
            "mimetype": "text/x-python",
            "name": "python",
            "nbconvert_exporter": "python",
            "pygments_lexer": "ipython3",
            "version": "3.10.12"
        }
    },
    "nbformat": 4,
    "nbformat_minor": 5
}
